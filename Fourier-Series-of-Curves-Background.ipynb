{
 "cells": [
  {
   "cell_type": "markdown",
   "metadata": {},
   "source": [
    "# Fourier Series of Curves: Background\n",
    "This notebook introduces Fourier series of (closed) curves and shows how to compute them.\n",
    "\n",
    "The goal is take a continuous line drawing (i.e. something drawn with a single line) and to recreate the drawing process using circles rotating around each others. An example can be seen below:\n",
    "\n",
    "Start: A Line Drawing | Goal: Circles drawing the line\n",
    "- | - \n",
    "![Line Drawing](img/flower.png \"Line Drawing\") | ![Animation with circles](img/flower_animation.gif \"Animation using Circles\")"
   ]
  },
  {
   "cell_type": "code",
   "execution_count": 1,
   "metadata": {},
   "outputs": [],
   "source": [
    "%matplotlib inline\n",
    "\n",
    "# Initial imports\n",
    "import numpy as np\n",
    "import matplotlib.pyplot as plt"
   ]
  },
  {
   "cell_type": "code",
   "execution_count": 2,
   "metadata": {},
   "outputs": [
    {
     "data": {
      "application/javascript": [
       "MathJax.Hub.Config({\n",
       "    TeX: { equationNumbers: { autoNumber: \"AMS\" } }\n",
       "});\n",
       "\n",
       "MathJax.Hub.Queue(\n",
       "  [\"resetEquationNumbers\", MathJax.InputJax.TeX],\n",
       "  [\"PreProcess\", MathJax.Hub],\n",
       "  [\"Reprocess\", MathJax.Hub]\n",
       ");\n"
      ],
      "text/plain": [
       "<IPython.core.display.Javascript object>"
      ]
     },
     "metadata": {},
     "output_type": "display_data"
    }
   ],
   "source": [
    "%%javascript\n",
    "MathJax.Hub.Config({\n",
    "    TeX: { equationNumbers: { autoNumber: \"AMS\" } }\n",
    "});\n",
    "\n",
    "MathJax.Hub.Queue(\n",
    "  [\"resetEquationNumbers\", MathJax.InputJax.TeX],\n",
    "  [\"PreProcess\", MathJax.Hub],\n",
    "  [\"Reprocess\", MathJax.Hub]\n",
    ");"
   ]
  },
  {
   "cell_type": "markdown",
   "metadata": {},
   "source": [
    "## Prerequisites\n",
    "For the following, you should be familiar with:\n",
    "- __Complex numbers.__ This notebook represents points as complex numbers and uses also a complex form of Fourier Series. For this reason, an understanding of complex numbers is required.  \n"
   ]
  },
  {
   "cell_type": "markdown",
   "metadata": {},
   "source": [
    "## Representing Line Drawings\n",
    "Starting with an image as shown above is not sufficient enough to recreate the drawing process. We need the information at which point in time which part of the image was drawn. For this reason, we represent the line drawing as a closed curve. \n",
    "\n",
    "Such a curve is given by a continuous function $g:[a,b]\\to\\mathbb{C}$ over the time-interval $[a,b]$ with $g(a) = g(b)$. Often, we will just set $a=0$ and $b=1$, but we will also allow for more general definitions.\n",
    "\n",
    "### Concatenating Lines\n",
    "It is possible to concatenate curves to get a longer, piecewise defined curve. Examples for such piecewise defined curves are polygons (as concatenations of straight lines), splines or paths in an svg-image.\n",
    "\n",
    "Formally, a piecewise defined curve $g:[a,b]\\to\\mathbb{C}$ is given by a sequence $a=t_0 < t_1 < \\ldots < t_n=b$ of border-points of the pieces and a corresponding number of curves $g_i:[t_i,t_{i+1}]\\to\\mathbb{C}$ ($i=0,\\ldots,n-1$) with $g(t) = g_i(t)$ for $t\\in[t_i,t_{i+1}[$ and $g(b) = g_{n-1}(b)$.\n",
    "\n",
    "In our case, we also want $g$ to fulfill the following conditions:\n",
    "- __Continuity__ of $g$: all $g_i$ need to be continuous and connected, i.e. $g_i(t_{i+1}) = g_{i+1}(t_{i+1})$\n",
    "- A __Closed Curve__ $g$, i.e. $g(a) = g(b)$"
   ]
  },
  {
   "cell_type": "markdown",
   "metadata": {},
   "source": [
    "## Representing Circles\n",
    "Looking at the target animation, we see a center circle and a second circle rotating on the first circle. A third circle rotates on the second one and so on. This is depicted in the following figure:\n",
    "![Rotating Circles](fig/rotating_circles.png \"Rotating Circles\")\n",
    "\n",
    "Mathematically, each circle $k$ ($k=1,\\ldots n$) is given by \n",
    "- a center point $p_k$ and \n",
    "- a radius $r_k$.\n",
    "\n",
    "The position of a point $q_k$ rotating on the circle can be determined by \n",
    "- a starting angle $\\alpha_k$ and \n",
    "- the speed of this dot $\\beta_k$.\n",
    "\n",
    "On a non-moving circle $k$, the coordinates of $q_k$ at time $t$ are then given by\n",
    "$$\n",
    "\\begin{equation}\n",
    "    q_k(t) = p_k + r_k\\left(\\cos(\\alpha_k+t\\cdot\\beta_k)\\atop \\sin(\\alpha_k+t\\cdot\\beta_k)\\right)\n",
    "    \\label{eqn:circle_vec}\n",
    "\\end{equation}\n",
    "$$\n",
    "\n",
    "Using complex numbers (\\ref{eqn:circle_vec}) can be written as:\n",
    "$$\n",
    "\\begin{equation}\n",
    "    q_k(t) = p_k + r_ke^{i(\\alpha_k+t\\cdot\\beta_k)} = p_k + \\underbrace{r_ke^{i\\alpha}}_{=:c_k}e^{i\\beta_kt}\n",
    "    \\label{eqn:circle_complex}\n",
    "\\end{equation}\n",
    "$$\n",
    "\n",
    "Since the centers of our circles are rotating on other circles, we get for $k > 1$ a time-dependent center of $p_k(t) = q_{k-1}(t)$. This allows us to rewrite (\\ref{eqn:circle_complex}) as:\n",
    "\n",
    "$$\n",
    "\\begin{equation}\n",
    "    q_k(t) = p_k(t) + c_ke^{i\\beta_kt}\n",
    "           = p_{k-1}(t) + c_{k-1}e^{i\\beta_{k-1}t} + c_ke^{i\\beta_kt} = \\ldots = p_1 + \\sum_{j=1}^kc_je^{i\\beta_jt}\n",
    "    \\label{eqn:circle_as_sum}\n",
    "\\end{equation}\n",
    "$$\n",
    "\n",
    "This way of formulating the rotating circles, and especially the last, line-drawing dot $q_{n}$ strongly resembles the complex formulation of a Fourier series, which we will briefly review in the following."
   ]
  }
 ],
 "metadata": {
  "kernelspec": {
   "display_name": "Python 3",
   "language": "python",
   "name": "python3"
  },
  "language_info": {
   "codemirror_mode": {
    "name": "ipython",
    "version": 3
   },
   "file_extension": ".py",
   "mimetype": "text/x-python",
   "name": "python",
   "nbconvert_exporter": "python",
   "pygments_lexer": "ipython3",
   "version": "3.7.5"
  }
 },
 "nbformat": 4,
 "nbformat_minor": 2
}
